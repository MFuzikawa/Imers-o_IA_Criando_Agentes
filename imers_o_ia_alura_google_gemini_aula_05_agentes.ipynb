{
  "nbformat": 4,
  "nbformat_minor": 0,
  "metadata": {
    "colab": {
      "provenance": [],
      "include_colab_link": true
    },
    "kernelspec": {
      "name": "python3",
      "display_name": "Python 3"
    },
    "language_info": {
      "name": "python"
    }
  },
  "cells": [
    {
      "cell_type": "markdown",
      "metadata": {
        "id": "view-in-github",
        "colab_type": "text"
      },
      "source": [
        "<a href=\"https://colab.research.google.com/github/MFuzikawa/Imers-o_IA_Criando_Agentes/blob/main/imers_o_ia_alura_google_gemini_aula_05_agentes.ipynb\" target=\"_parent\"><img src=\"https://colab.research.google.com/assets/colab-badge.svg\" alt=\"Open In Colab\"/></a>"
      ]
    },
    {
      "cell_type": "code",
      "source": [
        "%pip -q install google-genai"
      ],
      "metadata": {
        "id": "UCCbECexLk_h"
      },
      "execution_count": null,
      "outputs": []
    },
    {
      "cell_type": "code",
      "source": [
        "# Configura a API Key do Google Gemini\n",
        "\n",
        "import os\n",
        "from google.colab import userdata\n",
        "\n",
        "os.environ[\"GOOGLE_API_KEY\"] = userdata.get('GOOGLE_API_KEY')"
      ],
      "metadata": {
        "id": "NfCqHo1tLk8P"
      },
      "execution_count": null,
      "outputs": []
    },
    {
      "cell_type": "code",
      "source": [
        "# Configura o cliente da SDK do Gemini\n",
        "\n",
        "from google import genai\n",
        "\n",
        "client = genai.Client()\n",
        "\n",
        "MODEL_ID = \"gemini-2.0-flash\""
      ],
      "metadata": {
        "id": "bV4w0H5TLk5g"
      },
      "execution_count": null,
      "outputs": []
    },
    {
      "cell_type": "code",
      "source": [
        "# Pergunta ao Gemini uma informação mais recente que seu conhecimento\n",
        "\n",
        "from IPython.display import HTML, Markdown\n",
        "\n",
        "# Perguntar pro modelo quando é a próxima imersão de IA ###############################################\n",
        "response = client.models.generate_content(\n",
        "    model = MODEL_ID,\n",
        "    contents = 'Quando é a proxima imersão da alura'\n",
        ")\n",
        "\n",
        "# Exibe a resposta na tela\n",
        "display(Markdown(f\"Resposta:\\n {response.text}\"))"
      ],
      "metadata": {
        "id": "HwVP7Xi34Zuw",
        "colab": {
          "base_uri": "https://localhost:8080/",
          "height": 180
        },
        "outputId": "d282150d-2eaf-438c-ace6-2a8a7d21b027"
      },
      "execution_count": null,
      "outputs": [
        {
          "output_type": "display_data",
          "data": {
            "text/plain": [
              "<IPython.core.display.Markdown object>"
            ],
            "text/markdown": "Resposta:\n A Alura realiza imersões com frequência, geralmente com foco em diferentes áreas da tecnologia. Para saber quando será a próxima imersão e qual o tema, a melhor forma é verificar os canais oficiais da Alura:\n\n*   **Site da Alura:** Procure na página principal ou na seção de eventos/cursos.\n*   **Redes sociais da Alura:** Fique de olho nos perfis da Alura no LinkedIn, Instagram, Twitter e Facebook.\n*   **Comunidade da Alura no Discord:** Lá você pode encontrar informações sobre os próximos eventos e interagir com outros alunos.\n*   **Blog da Alura:** Eles costumam anunciar as imersões no blog.\n*   **E-mail:** Se você é assinante da Alura, verifique sua caixa de entrada, pois eles costumam enviar informações sobre os próximos eventos por e-mail.\n\nAo verificar esses canais, você terá acesso às informações mais atualizadas sobre a próxima imersão da Alura."
          },
          "metadata": {}
        }
      ]
    },
    {
      "cell_type": "code",
      "source": [
        "# Pergunta ao Gemini uma informação utilizando a busca do Google como contexto\n",
        "\n",
        "response = client.models.generate_content(\n",
        "    model=MODEL_ID,\n",
        "    contents='Quando é a próxima Imersão IA com Google Gemini da Alura?',\n",
        "    config = {\"tools\":[{\"google_search\": {}}]}\n",
        "    # Inserir a tool de busca do Google ###############################################\n",
        ")\n",
        "\n",
        "# Exibe a resposta na tela\n",
        "display(Markdown(f\"Resposta:\\n {response.text}\"))"
      ],
      "metadata": {
        "id": "yXaZd7iZ4ftw",
        "colab": {
          "base_uri": "https://localhost:8080/",
          "height": 64
        },
        "outputId": "658d70e8-0726-4fd5-b50c-ceeb4c2514e9"
      },
      "execution_count": null,
      "outputs": [
        {
          "output_type": "display_data",
          "data": {
            "text/plain": [
              "<IPython.core.display.Markdown object>"
            ],
            "text/markdown": "Resposta:\n A próxima Imersão IA com Google Gemini da Alura acontecerá entre os dias 12 e 16 de maio de 2025. As inscrições estão abertas até o dia 11 de maio de 2025.\n"
          },
          "metadata": {}
        }
      ]
    },
    {
      "cell_type": "code",
      "source": [
        "# Exibe a busca\n",
        "print(f\"Busca realizada: {response.candidates[0].grounding_metadata.web_search_queries}\")\n",
        "# Exibe as URLs nas quais ele se baseou\n",
        "print(f\"Páginas utilizadas na resposta: {', '.join([site.web.title for site in response.candidates[0].grounding_metadata.grounding_chunks])}\")\n",
        "print()\n",
        "display(HTML(response.candidates[0].grounding_metadata.search_entry_point.rendered_content))"
      ],
      "metadata": {
        "id": "xHSNlTd84heJ",
        "colab": {
          "base_uri": "https://localhost:8080/",
          "height": 117
        },
        "outputId": "ec26c2a1-d43e-4efb-8ffa-77fc022560af"
      },
      "execution_count": null,
      "outputs": [
        {
          "output_type": "stream",
          "name": "stdout",
          "text": [
            "Busca realizada: ['Alura Imersão IA com Google Gemini data']\n",
            "Páginas utilizadas na resposta: alura.com.br, tecmundo.com.br\n",
            "\n"
          ]
        },
        {
          "output_type": "display_data",
          "data": {
            "text/plain": [
              "<IPython.core.display.HTML object>"
            ],
            "text/html": [
              "<style>\n",
              ".container {\n",
              "  align-items: center;\n",
              "  border-radius: 8px;\n",
              "  display: flex;\n",
              "  font-family: Google Sans, Roboto, sans-serif;\n",
              "  font-size: 14px;\n",
              "  line-height: 20px;\n",
              "  padding: 8px 12px;\n",
              "}\n",
              ".chip {\n",
              "  display: inline-block;\n",
              "  border: solid 1px;\n",
              "  border-radius: 16px;\n",
              "  min-width: 14px;\n",
              "  padding: 5px 16px;\n",
              "  text-align: center;\n",
              "  user-select: none;\n",
              "  margin: 0 8px;\n",
              "  -webkit-tap-highlight-color: transparent;\n",
              "}\n",
              ".carousel {\n",
              "  overflow: auto;\n",
              "  scrollbar-width: none;\n",
              "  white-space: nowrap;\n",
              "  margin-right: -12px;\n",
              "}\n",
              ".headline {\n",
              "  display: flex;\n",
              "  margin-right: 4px;\n",
              "}\n",
              ".gradient-container {\n",
              "  position: relative;\n",
              "}\n",
              ".gradient {\n",
              "  position: absolute;\n",
              "  transform: translate(3px, -9px);\n",
              "  height: 36px;\n",
              "  width: 9px;\n",
              "}\n",
              "@media (prefers-color-scheme: light) {\n",
              "  .container {\n",
              "    background-color: #fafafa;\n",
              "    box-shadow: 0 0 0 1px #0000000f;\n",
              "  }\n",
              "  .headline-label {\n",
              "    color: #1f1f1f;\n",
              "  }\n",
              "  .chip {\n",
              "    background-color: #ffffff;\n",
              "    border-color: #d2d2d2;\n",
              "    color: #5e5e5e;\n",
              "    text-decoration: none;\n",
              "  }\n",
              "  .chip:hover {\n",
              "    background-color: #f2f2f2;\n",
              "  }\n",
              "  .chip:focus {\n",
              "    background-color: #f2f2f2;\n",
              "  }\n",
              "  .chip:active {\n",
              "    background-color: #d8d8d8;\n",
              "    border-color: #b6b6b6;\n",
              "  }\n",
              "  .logo-dark {\n",
              "    display: none;\n",
              "  }\n",
              "  .gradient {\n",
              "    background: linear-gradient(90deg, #fafafa 15%, #fafafa00 100%);\n",
              "  }\n",
              "}\n",
              "@media (prefers-color-scheme: dark) {\n",
              "  .container {\n",
              "    background-color: #1f1f1f;\n",
              "    box-shadow: 0 0 0 1px #ffffff26;\n",
              "  }\n",
              "  .headline-label {\n",
              "    color: #fff;\n",
              "  }\n",
              "  .chip {\n",
              "    background-color: #2c2c2c;\n",
              "    border-color: #3c4043;\n",
              "    color: #fff;\n",
              "    text-decoration: none;\n",
              "  }\n",
              "  .chip:hover {\n",
              "    background-color: #353536;\n",
              "  }\n",
              "  .chip:focus {\n",
              "    background-color: #353536;\n",
              "  }\n",
              "  .chip:active {\n",
              "    background-color: #464849;\n",
              "    border-color: #53575b;\n",
              "  }\n",
              "  .logo-light {\n",
              "    display: none;\n",
              "  }\n",
              "  .gradient {\n",
              "    background: linear-gradient(90deg, #1f1f1f 15%, #1f1f1f00 100%);\n",
              "  }\n",
              "}\n",
              "</style>\n",
              "<div class=\"container\">\n",
              "  <div class=\"headline\">\n",
              "    <svg class=\"logo-light\" width=\"18\" height=\"18\" viewBox=\"9 9 35 35\" fill=\"none\" xmlns=\"http://www.w3.org/2000/svg\">\n",
              "      <path fill-rule=\"evenodd\" clip-rule=\"evenodd\" d=\"M42.8622 27.0064C42.8622 25.7839 42.7525 24.6084 42.5487 23.4799H26.3109V30.1568H35.5897C35.1821 32.3041 33.9596 34.1222 32.1258 35.3448V39.6864H37.7213C40.9814 36.677 42.8622 32.2571 42.8622 27.0064V27.0064Z\" fill=\"#4285F4\"/>\n",
              "      <path fill-rule=\"evenodd\" clip-rule=\"evenodd\" d=\"M26.3109 43.8555C30.9659 43.8555 34.8687 42.3195 37.7213 39.6863L32.1258 35.3447C30.5898 36.3792 28.6306 37.0061 26.3109 37.0061C21.8282 37.0061 18.0195 33.9811 16.6559 29.906H10.9194V34.3573C13.7563 39.9841 19.5712 43.8555 26.3109 43.8555V43.8555Z\" fill=\"#34A853\"/>\n",
              "      <path fill-rule=\"evenodd\" clip-rule=\"evenodd\" d=\"M16.6559 29.8904C16.3111 28.8559 16.1074 27.7588 16.1074 26.6146C16.1074 25.4704 16.3111 24.3733 16.6559 23.3388V18.8875H10.9194C9.74388 21.2072 9.06992 23.8247 9.06992 26.6146C9.06992 29.4045 9.74388 32.022 10.9194 34.3417L15.3864 30.8621L16.6559 29.8904V29.8904Z\" fill=\"#FBBC05\"/>\n",
              "      <path fill-rule=\"evenodd\" clip-rule=\"evenodd\" d=\"M26.3109 16.2386C28.85 16.2386 31.107 17.1164 32.9095 18.8091L37.8466 13.8719C34.853 11.082 30.9659 9.3736 26.3109 9.3736C19.5712 9.3736 13.7563 13.245 10.9194 18.8875L16.6559 23.3388C18.0195 19.2636 21.8282 16.2386 26.3109 16.2386V16.2386Z\" fill=\"#EA4335\"/>\n",
              "    </svg>\n",
              "    <svg class=\"logo-dark\" width=\"18\" height=\"18\" viewBox=\"0 0 48 48\" xmlns=\"http://www.w3.org/2000/svg\">\n",
              "      <circle cx=\"24\" cy=\"23\" fill=\"#FFF\" r=\"22\"/>\n",
              "      <path d=\"M33.76 34.26c2.75-2.56 4.49-6.37 4.49-11.26 0-.89-.08-1.84-.29-3H24.01v5.99h8.03c-.4 2.02-1.5 3.56-3.07 4.56v.75l3.91 2.97h.88z\" fill=\"#4285F4\"/>\n",
              "      <path d=\"M15.58 25.77A8.845 8.845 0 0 0 24 31.86c1.92 0 3.62-.46 4.97-1.31l4.79 3.71C31.14 36.7 27.65 38 24 38c-5.93 0-11.01-3.4-13.45-8.36l.17-1.01 4.06-2.85h.8z\" fill=\"#34A853\"/>\n",
              "      <path d=\"M15.59 20.21a8.864 8.864 0 0 0 0 5.58l-5.03 3.86c-.98-2-1.53-4.25-1.53-6.64 0-2.39.55-4.64 1.53-6.64l1-.22 3.81 2.98.22 1.08z\" fill=\"#FBBC05\"/>\n",
              "      <path d=\"M24 14.14c2.11 0 4.02.75 5.52 1.98l4.36-4.36C31.22 9.43 27.81 8 24 8c-5.93 0-11.01 3.4-13.45 8.36l5.03 3.85A8.86 8.86 0 0 1 24 14.14z\" fill=\"#EA4335\"/>\n",
              "    </svg>\n",
              "    <div class=\"gradient-container\"><div class=\"gradient\"></div></div>\n",
              "  </div>\n",
              "  <div class=\"carousel\">\n",
              "    <a class=\"chip\" href=\"https://vertexaisearch.cloud.google.com/grounding-api-redirect/AbF9wXFV1jhwSRM7RDl_JgX6S5EpfSzWO2JD3psJrtxEEMKTQgoyAs9EezDBBJN5BituXk7ZevWNqvMj1-UHwwawPi0p9CwDeo7WHJ6xaMiBADmlkAwAVoBzu2BDP8r4bm9Gp-dcbYSLaPKC93qGsdl3uS6LeQ7YqvZlzv8TH0vAOhCfU7V2l3DkeV3M1mpLDtD9HMD28W2H7Td7YQ2D0JYfAXXoKLBhM2YJVuIlhpx4QA_G\">Alura Imersão IA com Google Gemini data</a>\n",
              "  </div>\n",
              "</div>\n"
            ]
          },
          "metadata": {}
        }
      ]
    },
    {
      "cell_type": "code",
      "source": [
        "# Instalar Framework ADK de agentes do Google ################################################\n",
        "!pip install -q google-adk"
      ],
      "metadata": {
        "id": "hvZ3UnPI4jhJ",
        "colab": {
          "base_uri": "https://localhost:8080/"
        },
        "outputId": "2b001f52-45b2-48bc-c9d4-50b8554300a3"
      },
      "execution_count": null,
      "outputs": [
        {
          "output_type": "stream",
          "name": "stdout",
          "text": [
            "\u001b[?25l   \u001b[90m━━━━━━━━━━━━━━━━━━━━━━━━━━━━━━━━━━━━━━━━\u001b[0m \u001b[32m0.0/1.2 MB\u001b[0m \u001b[31m?\u001b[0m eta \u001b[36m-:--:--\u001b[0m\r\u001b[2K   \u001b[91m━━━━━━━━━━━━━━━━━━\u001b[0m\u001b[91m╸\u001b[0m\u001b[90m━━━━━━━━━━━━━━━━━━━━━\u001b[0m \u001b[32m0.6/1.2 MB\u001b[0m \u001b[31m16.7 MB/s\u001b[0m eta \u001b[36m0:00:01\u001b[0m\r\u001b[2K   \u001b[90m━━━━━━━━━━━━━━━━━━━━━━━━━━━━━━━━━━━━━━━━\u001b[0m \u001b[32m1.2/1.2 MB\u001b[0m \u001b[31m18.9 MB/s\u001b[0m eta \u001b[36m0:00:00\u001b[0m\n",
            "\u001b[2K   \u001b[90m━━━━━━━━━━━━━━━━━━━━━━━━━━━━━━━━━━━━━━━━\u001b[0m \u001b[32m232.1/232.1 kB\u001b[0m \u001b[31m17.0 MB/s\u001b[0m eta \u001b[36m0:00:00\u001b[0m\n",
            "\u001b[2K   \u001b[90m━━━━━━━━━━━━━━━━━━━━━━━━━━━━━━━━━━━━━━━━\u001b[0m \u001b[32m95.2/95.2 kB\u001b[0m \u001b[31m6.4 MB/s\u001b[0m eta \u001b[36m0:00:00\u001b[0m\n",
            "\u001b[2K   \u001b[90m━━━━━━━━━━━━━━━━━━━━━━━━━━━━━━━━━━━━━━━━\u001b[0m \u001b[32m217.1/217.1 kB\u001b[0m \u001b[31m15.8 MB/s\u001b[0m eta \u001b[36m0:00:00\u001b[0m\n",
            "\u001b[2K   \u001b[90m━━━━━━━━━━━━━━━━━━━━━━━━━━━━━━━━━━━━━━━━\u001b[0m \u001b[32m334.1/334.1 kB\u001b[0m \u001b[31m22.8 MB/s\u001b[0m eta \u001b[36m0:00:00\u001b[0m\n",
            "\u001b[2K   \u001b[90m━━━━━━━━━━━━━━━━━━━━━━━━━━━━━━━━━━━━━━━━\u001b[0m \u001b[32m125.1/125.1 kB\u001b[0m \u001b[31m9.9 MB/s\u001b[0m eta \u001b[36m0:00:00\u001b[0m\n",
            "\u001b[2K   \u001b[90m━━━━━━━━━━━━━━━━━━━━━━━━━━━━━━━━━━━━━━━━\u001b[0m \u001b[32m65.8/65.8 kB\u001b[0m \u001b[31m4.5 MB/s\u001b[0m eta \u001b[36m0:00:00\u001b[0m\n",
            "\u001b[2K   \u001b[90m━━━━━━━━━━━━━━━━━━━━━━━━━━━━━━━━━━━━━━━━\u001b[0m \u001b[32m119.0/119.0 kB\u001b[0m \u001b[31m9.0 MB/s\u001b[0m eta \u001b[36m0:00:00\u001b[0m\n",
            "\u001b[2K   \u001b[90m━━━━━━━━━━━━━━━━━━━━━━━━━━━━━━━━━━━━━━━━\u001b[0m \u001b[32m194.9/194.9 kB\u001b[0m \u001b[31m12.9 MB/s\u001b[0m eta \u001b[36m0:00:00\u001b[0m\n",
            "\u001b[2K   \u001b[90m━━━━━━━━━━━━━━━━━━━━━━━━━━━━━━━━━━━━━━━━\u001b[0m \u001b[32m62.5/62.5 kB\u001b[0m \u001b[31m4.3 MB/s\u001b[0m eta \u001b[36m0:00:00\u001b[0m\n",
            "\u001b[2K   \u001b[90m━━━━━━━━━━━━━━━━━━━━━━━━━━━━━━━━━━━━━━━━\u001b[0m \u001b[32m103.3/103.3 kB\u001b[0m \u001b[31m7.1 MB/s\u001b[0m eta \u001b[36m0:00:00\u001b[0m\n",
            "\u001b[2K   \u001b[90m━━━━━━━━━━━━━━━━━━━━━━━━━━━━━━━━━━━━━━━━\u001b[0m \u001b[32m44.4/44.4 kB\u001b[0m \u001b[31m3.2 MB/s\u001b[0m eta \u001b[36m0:00:00\u001b[0m\n",
            "\u001b[2K   \u001b[90m━━━━━━━━━━━━━━━━━━━━━━━━━━━━━━━━━━━━━━━━\u001b[0m \u001b[32m72.0/72.0 kB\u001b[0m \u001b[31m5.8 MB/s\u001b[0m eta \u001b[36m0:00:00\u001b[0m\n",
            "\u001b[?25h"
          ]
        }
      ]
    },
    {
      "cell_type": "code",
      "execution_count": null,
      "metadata": {
        "id": "aePV2bdfDeoW"
      },
      "outputs": [],
      "source": [
        "from google.adk.agents import Agent\n",
        "from google.adk.runners import Runner\n",
        "from google.adk.sessions import InMemorySessionService\n",
        "from google.adk.tools import google_search\n",
        "from google.genai import types  # Para criar conteúdos (Content e Part)\n",
        "from datetime import date\n",
        "import textwrap # Para formatar melhor a saída de texto\n",
        "from IPython.display import display, Markdown # Para exibir texto formatado no Colab\n",
        "import requests # Para fazer requisições HTTP\n",
        "import warnings\n",
        "\n",
        "warnings.filterwarnings(\"ignore\")"
      ]
    },
    {
      "cell_type": "code",
      "source": [
        "# Função auxiliar que envia uma mensagem para um agente via Runner e retorna a resposta final\n",
        "def call_agent(agent: Agent, message_text: str) -> str:\n",
        "    # Cria um serviço de sessão em memória\n",
        "    session_service = InMemorySessionService()\n",
        "    # Cria uma nova sessão (você pode personalizar os IDs conforme necessário)\n",
        "    session = session_service.create_session(app_name=agent.name, user_id=\"user1\", session_id=\"session1\")\n",
        "    # Cria um Runner para o agente\n",
        "    runner = Runner(agent=agent, app_name=agent.name, session_service=session_service)\n",
        "    # Cria o conteúdo da mensagem de entrada\n",
        "    content = types.Content(role=\"user\", parts=[types.Part(text=message_text)])\n",
        "\n",
        "    final_response = \"\"\n",
        "    # Itera assincronamente pelos eventos retornados durante a execução do agente\n",
        "    for event in runner.run(user_id=\"user1\", session_id=\"session1\", new_message=content):\n",
        "        if event.is_final_response():\n",
        "          for part in event.content.parts:\n",
        "            if part.text is not None:\n",
        "              final_response += part.text\n",
        "              final_response += \"\\n\"\n",
        "    return final_response"
      ],
      "metadata": {
        "id": "_xP4lWhsS5ko"
      },
      "execution_count": null,
      "outputs": []
    },
    {
      "cell_type": "code",
      "source": [
        "# Função auxiliar para exibir texto formatado em Markdown no Colab\n",
        "def to_markdown(text):\n",
        "  text = text.replace('•', '  *')\n",
        "  return Markdown(textwrap.indent(text, '> ', predicate=lambda _: True))"
      ],
      "metadata": {
        "id": "8dosiodaxfFR"
      },
      "execution_count": null,
      "outputs": []
    },
    {
      "cell_type": "code",
      "source": [
        "##########################################\n",
        "# --- Agente 1: Buscador de Notícias --- #\n",
        "##########################################\n",
        "def agente_buscador(topico, dia_de_hoje):\n",
        "    buscador = Agent(\n",
        "        name=\"agente_buscador\",\n",
        "        model=\"gemini-2.0-flash\",\n",
        "        description=\"Agente que busca notícias no Google\",\n",
        "        tools=[google_search],\n",
        "        instruction=\"\"\"Você é um assistente de pesquisa. A sua tarefa é usar a ferramenta de buscas do google(google search) para recuperar as últimas\n",
        "         notícias de lançamentos muito releva tes sobre o tópico abaixo. Foque em no maximo\n",
        "        5 lançamentos relevantes, com base na quantidade e entusiasmo das notícias sobre ele.\n",
        "        Se um tema tiver poucas notícias ou reações entusiasmadas, é possível que ela não seja tão relevante e pode ser substituido por outro que tenha mais. Esses lançamentos relevantes devem ser atuais,\n",
        "         de no maximo um mês antes da data de hoje\"\"\"\n",
        "    )\n",
        "    entrada_do_agente_buscador = f\"Tópico: {topico}\\nDia de hoje: {dia_de_hoje}\"\n",
        "    # Executa o agente\n",
        "    lancamentos_buscados = call_agent(buscador, entrada_do_agente_buscador)\n",
        "    return lancamentos_buscados"
      ],
      "metadata": {
        "id": "o8bqIfi_DyH8"
      },
      "execution_count": null,
      "outputs": []
    },
    {
      "cell_type": "code",
      "source": [
        "################################################\n",
        "# --- Agente 2: Planejador de posts --- #\n",
        "################################################\n",
        "def agente_planejador(topico, lancamentos_buscados):\n",
        "    planejador = Agent(\n",
        "        name=\"agente_planejador\",\n",
        "        model=\"gemini-2.0-flash\",\n",
        "        # Inserir as instruções do Agente Planejador #################################################\n",
        "        instruction=\"\"\" Você é um agente de planejamento de conteúdo, especialista em redes sociais. Com base na lista de lançamentos mais recentes e relevantes buscados, você deve:\n",
        "        usar a ferramenta do Google (google_search) para criar um plano sobre quais são os pontos mais relevantes que poderíamos abordar em um post sobre cada um deles. você tambem pode usar o (google_search)\n",
        "        para encontrar mais infromações sobre os temas e aprofundar.\n",
        "        Ao final, você irá escolner o tema mais relevante entre eles com base nas suas pesquisas e retornar esse tema, seus pontos mais relevantes, e um plano com os assuntos a serem abordados\n",
        "        no post que será escrito posteriormente\n",
        "        \"\"\",\n",
        "        description=\"Agente que planeja posts\",\n",
        "        tools=[google_search]\n",
        "    )\n",
        "\n",
        "    entrada_do_agente_planejador = f\"Tópico:{topico}\\nLançamentos buscados: {lancamentos_buscados}\"\n",
        "    # Executa o agente\n",
        "    plano_do_post = call_agent(planejador, entrada_do_agente_planejador)\n",
        "    return plano_do_post"
      ],
      "metadata": {
        "id": "y3VO1uo5_ghO"
      },
      "execution_count": null,
      "outputs": []
    },
    {
      "cell_type": "code",
      "source": [
        "######################################\n",
        "# --- Agente 3: Redator do Post --- #\n",
        "######################################\n",
        "def agente_redator(topico, plano_de_post):\n",
        "    redator = Agent(\n",
        "        name=\"agente_redator\",\n",
        "        model=\"gemini-2.0-flash\",\n",
        "        instruction=\"\"\"\n",
        "            Você é um Redator Criativo especializado em criar posts virais para redes sociais.\n",
        "            Você escreve posts para a empresa Alura, a maior escola online de tecnologia do Brasil.\n",
        "            Utilize o tema fornecido no plano de post e os pontos mais relevantes fornecidos e, com base nisso,\n",
        "            escreva um rascunho de post para Instagram sobre o tema indicado.\n",
        "            O post deve ser engajador, informativo, com linguagem simples e incluir 2 a 4 hashtags no final.\n",
        "            \"\"\",\n",
        "        description=\"Agente redator de posts engajadores para Instagram\"\n",
        "    )\n",
        "    entrada_do_agente_redator = f\"Tópico: {topico}\\nPlano de post: {plano_de_post}\"\n",
        "    # Executa o agente\n",
        "    rascunho = call_agent(redator, entrada_do_agente_redator)\n",
        "    return rascunho"
      ],
      "metadata": {
        "id": "uOqlg2TRLVh1"
      },
      "execution_count": null,
      "outputs": []
    },
    {
      "cell_type": "code",
      "source": [
        "##########################################\n",
        "# --- Agente 4: Revisor de Qualidade --- #\n",
        "##########################################\n",
        "def agente_revisor(topico, rascunho_gerado):\n",
        "    revisor = Agent(\n",
        "        name=\"agente_revisor\",\n",
        "        model=\"gemini-2.0-flash\",\n",
        "        instruction=\"\"\"\n",
        "            Você é um Editor e Revisor de Conteúdo meticuloso, especializado em posts para redes sociais, com foco no Instagram.\n",
        "            Por ter um público jovem, entre 18 e 30 anos, use um tom de escrita adequado. Use o (google_search) para verificar se as informações estão corretas\n",
        "            Revise o rascunho de post de Instagram abaixo sobre o tópico indicado, verificando clareza, concisão, correção e tom.\n",
        "            Se o rascunho estiver bom, responda apenas 'O rascunho está ótimo e pronto para publicar!'.\n",
        "            Caso haja problemas, aponte-os e sugira melhorias.\n",
        "            \"\"\",\n",
        "        description=\"Agente revisor de post para redes sociais.\",\n",
        "                tools=[google_search]\n",
        "    )\n",
        "    entrada_do_agente_revisor = f\"Tópico: {topico}\\nRascunho: {rascunho_gerado}\"\n",
        "    # Executa o agente\n",
        "    texto_revisado = call_agent(revisor, entrada_do_agente_revisor)\n",
        "    return texto_revisado"
      ],
      "metadata": {
        "id": "_aTb1SdkLeT6"
      },
      "execution_count": null,
      "outputs": []
    },
    {
      "cell_type": "code",
      "source": [
        "data_de_hoje = date.today().strftime(\"%d/%m/%Y\")\n",
        "\n",
        "print(\"🚀 Iniciando o Sistema de Criação de Posts para Instagram com 4 Agentes 🚀\")\n",
        "\n",
        "# --- Obter o Tópico do Usuário ---\n",
        "topico = input(\"❓ Por favor, digite o TÓPICO sobre o qual você quer criar o post de tendências: \")\n",
        "if  not topico:\n",
        "  print(\"voce esqueceu de digitar o tópico\")\n",
        "else:\n",
        "  print(f\"O tópico escolhido foi: {topico}\")\n",
        "\n",
        "# Inserir lógica do sistema de agentes ################################################\n",
        "\n",
        "#Agente Buscador em ação###################################\n",
        "lancamentos_buscados = agente_buscador(topico, data_de_hoje)\n",
        "\n",
        "print(\"/n--- Resultado do agente buscador ---\\n\")\n",
        "display(to_markdown(lancamentos_buscados))\n",
        "\n",
        "#Agente planejador em ação #################################################\n",
        "\n",
        "print(\"---------------------------------------\")\n",
        "\n",
        "lancamentos_planejados = agente_planejador(topico, lancamentos_buscados)\n",
        "\n",
        "print(\"\\n--- Resultado do agente planejador ---\\n\")\n",
        "display(to_markdown(lancamentos_planejados))\n",
        "\n",
        "print(\"---------------------------------------\")\n",
        "\n",
        "#Agente redator em ação #################################\n",
        "rascunho = agente_redator(topico, lancamentos_planejados)\n",
        "\n",
        "print(\"\\n--- Resultado do agente redator ---\\n\")\n",
        "display(to_markdown(rascunho))\n",
        "print(\"---------------------------------------\")\n",
        "\n",
        "#Agente revisor em ação #######\n",
        "revisao = agente_revisor(topico, rascunho)\n",
        "\n",
        "print(\"\\n--- Resultado do agente revisor ---\\n\")\n",
        "display(to_markdown(revisao))\n",
        "print(\"---------------------------------------\")"
      ],
      "metadata": {
        "id": "630ummxz4myx",
        "collapsed": true,
        "colab": {
          "base_uri": "https://localhost:8080/",
          "height": 1000
        },
        "outputId": "0ef0365e-7617-4c16-8137-dc15051911cc"
      },
      "execution_count": null,
      "outputs": [
        {
          "output_type": "stream",
          "name": "stdout",
          "text": [
            "🚀 Iniciando o Sistema de Criação de Posts para Instagram com 4 Agentes 🚀\n",
            "❓ Por favor, digite o TÓPICO sobre o qual você quer criar o post de tendências: Agentes de IA\n",
            "O tópico escolhido foi: Agentes de IA\n",
            "/n--- Resultado do agente buscador ---\n",
            "\n"
          ]
        },
        {
          "output_type": "display_data",
          "data": {
            "text/plain": [
              "<IPython.core.display.Markdown object>"
            ],
            "text/markdown": "> Para encontrar os lançamentos mais relevantes sobre agentes de IA no último mês, vou usar o Google Search para identificar as notícias e anúncios mais comentados e relevantes.\n> \n> \n> Com base nas notícias e artigos mais recentes sobre agentes de IA, aqui estão alguns dos lançamentos e avanços mais relevantes no último mês (Abril-Maio de 2025):\n> \n> 1.  **IBM Watsonx Orchestrate:** A IBM anunciou atualizações para o Watsonx Orchestrate, oferecendo soluções para integrar, customizar e implementar agentes de IA. Inclui agentes pré-construídos para RH, vendas e compras, integrados com mais de 80 aplicações empresariais (Adobe, AWS, Microsoft, Oracle, Salesforce, SAP, ServiceNow, Workday). Também lançou o Agent Catalog, que simplifica o acesso a esses agentes.\n> 2.  **Aquisição da Windsurf pela OpenAI:** A OpenAI adquiriu a Windsurf (anteriormente Codeium) por US$ 3 bilhões. A Windsurf é um ambiente de desenvolvimento colaborativo que integra desenvolvedores e agentes inteligentes, permitindo codificação interativa e colaboração em tempo real.\n> 3.  **Microsoft 365 Copilot Wave 2 Spring:** A Microsoft lançou o Microsoft 365 Copilot Wave 2 Spring, que inclui os Agentes Researcher e Analyst, alimentados por modelos de raciocínio profundo da OpenAI.\n> 4.  **Avanços em Modelos de Linguagem:** Empresas como OpenAI (GPT-4), Anthropic (Claude) e Mistral AI estão aprimorando seus modelos de linguagem, que são a base para o raciocínio dos agentes de IA. Modelos open-source como o Llama 3 também estão sendo utilizados.\n> 5.  **Novas Ferramentas e Plataformas de Desenvolvimento:** Espera-se que novos frameworks e plataformas de desenvolvimento de agentes reduzam a barreira de entrada, fornecendo protocolos de comunicação padrão, políticas de governança e gerenciamento de ciclo de vida.\n> \n> Esses lançamentos indicam um foco crescente na integração de agentes de IA em diversas áreas empresariais, com melhorias tanto nos modelos de linguagem quanto nas ferramentas para implementar e gerenciar esses agentes.\n> \n"
          },
          "metadata": {}
        },
        {
          "output_type": "stream",
          "name": "stdout",
          "text": [
            "---------------------------------------\n",
            "\n",
            "--- Resultado do agente planejador ---\n",
            "\n"
          ]
        },
        {
          "output_type": "display_data",
          "data": {
            "text/plain": [
              "<IPython.core.display.Markdown object>"
            ],
            "text/markdown": "> Com base nos lançamentos e avanços recentes em agentes de IA, vou criar um plano detalhado para um post de mídia social sobre o tema, focando no lançamento mais relevante e com maior potencial de engajamento para o público.\n> \n> Primeiro, vamos buscar mais informações sobre cada um dos lançamentos para identificar os pontos mais interessantes:\n> \n> \n> Após analisar os dados coletados, o lançamento da **Microsoft 365 Copilot Wave 2 Spring** parece ser o tópico mais relevante para um post de mídia social, devido ao seu potencial de impactar diretamente a produtividade e o fluxo de trabalho de muitos usuários empresariais.\n> \n> ### Tópico Escolhido: Microsoft 365 Copilot Wave 2 Spring\n> \n> **Pontos Relevantes:**\n> \n> *   **Novos Agentes Researcher e Analyst:** Detalhes sobre como esses agentes de raciocínio profundo da OpenAI podem auxiliar em pesquisas complexas e análise de dados, respectivamente.\n> *   **Agent Store:** A facilidade de encontrar, fixar e usar diversos agentes, tanto da Microsoft quanto de terceiros (Jira, Monday.com, Miro).\n> *   **Copilot Search:** A capacidade de encontrar informações rapidamente no ambiente de trabalho usando linguagem natural, com resumos instantâneos.\n> *   **Copilot Studio:** A plataforma para criar e personalizar agentes de IA para necessidades empresariais únicas.\n> *   **Controles de TI:** Ferramentas para gerenciar, governar e medir o impacto dos agentes na organização.\n> \n> **Plano de Conteúdo para o Post:**\n> \n> 1.  **Título:** \"Microsoft 365 Copilot Wave 2: A Revolução dos Agentes de IA no Seu Trabalho\"\n> 2.  **Introdução (2-3 linhas):**\n> \n>     *   Mencionar que a Microsoft lançou a Wave 2 do Copilot, focando em colaboração humano-agente.\n>     *   Destacar que esta atualização redefine a produtividade e a tomada de decisões nas empresas.\n> 3.  **Destaque dos Agentes Researcher e Analyst (3-4 linhas):**\n> \n>     *   Explicar como o Researcher ajuda a realizar pesquisas complexas com alta precisão.\n>     *   Descrever como o Analyst transforma dados brutos em insights acionáveis rapidamente.\n>     *   Mencionar a disponibilidade desses agentes através do Agent Store.\n> 4.  **Exploração do Agent Store (2-3 linhas):**\n> \n>     *   Enfatizar a facilidade de acesso a agentes da Microsoft e de parceiros como Jira, Monday.com, Miro.\n>     *   Incentivar os usuários a explorar e personalizar seus fluxos de trabalho com esses agentes.\n> 5.  **Copilot Search e Copilot Studio (3-4 linhas):**\n> \n>     *   Explicar como o Copilot Search facilita a busca de informações no ambiente de trabalho com linguagem natural.\n>     *   Destacar a capacidade do Copilot Studio de criar agentes personalizados para necessidades específicas da empresa.\n> 6.  **Controles de TI e Segurança (2-3 linhas):**\n> \n>     *   Mencionar as ferramentas de gerenciamento e governança de agentes no Copilot Control System.\n>     *   Destacar a importância da segurança dos dados com as políticas do Microsoft Purview.\n> 7.  **Chamada para Ação (1 linha):**\n> \n>     *   Incentivar os usuários a explorar as novas funcionalidades e a compartilhar suas experiências.\n> \n> 8.  **Hashtags:**\n> \n>     *   \\#Microsoft365 \\#Copilot \\#IA \\#Produtividade \\#AgentesDeIA \\#OpenAI\n> \n> **Assuntos a serem abordados no post:**\n> \n> *   **O que é a Microsoft 365 Copilot Wave 2 Spring:**\n> \n>     *   Uma atualização que visa revolucionar a forma como trabalhamos, integrando agentes de IA para aumentar a produtividade.\n> *   **Principais Novidades:**\n> \n>     *   **Agentes Researcher e Analyst:**\n>         *   Como eles funcionam e como podem transformar a pesquisa e análise de dados.\n>     *   **Agent Store:**\n>         *   Acesso facilitado a diversos agentes, tanto da Microsoft quanto de terceiros.\n>         *   Exemplos de agentes de parceiros (Jira, Monday.com, Miro) e como eles se integram ao fluxo de trabalho.\n>     *   **Copilot Search:**\n>         *   Busca inteligente e contextualizada no ambiente de trabalho.\n>         *   Como encontrar arquivos, e-mails e conversas usando linguagem natural.\n>     *   **Copilot Studio:**\n>         *   Criação e personalização de agentes para necessidades específicas.\n>         *   A importância de adaptar a IA às necessidades únicas de cada empresa.\n>     *   **Controles de TI e Segurança:**\n>         *   Ferramentas para gerenciar, governar e medir o impacto dos agentes.\n>         *   Segurança dos dados e conformidade com políticas de proteção.\n> *   **Benefícios Gerais:**\n> \n>     *   Aumento da produtividade e eficiência.\n>     *   Melhor tomada de decisões com insights precisos.\n>     *   Automação de tarefas complexas.\n> *   **Público-Alvo:**\n> \n>     *   Profissionais que usam o Microsoft 365.\n>     *   Líderes de TI responsáveis pela implementação de novas tecnologias.\n>     *   Interessados em IA e automação no ambiente de trabalho.\n> \n"
          },
          "metadata": {}
        },
        {
          "output_type": "stream",
          "name": "stdout",
          "text": [
            "---------------------------------------\n",
            "\n",
            "--- Resultado do agente redator ---\n",
            "\n"
          ]
        },
        {
          "output_type": "display_data",
          "data": {
            "text/plain": [
              "<IPython.core.display.Markdown object>"
            ],
            "text/markdown": "> ## Rascunho de Post para Instagram:\n> \n> **Título:** Microsoft 365 Copilot Wave 2: A Revolução dos Agentes de IA no Seu Trabalho 🚀\n> \n> Prepare-se para uma transformação radical na sua forma de trabalhar! A Microsoft acaba de lançar a Wave 2 do Copilot, uma atualização focada na colaboração entre humanos e agentes de IA, elevando a produtividade e a tomada de decisões a um novo patamar. 🤯\n> \n> Já imaginou ter um agente que realiza pesquisas complexas com precisão cirúrgica? 🔎 O **Researcher** faz isso! E que tal um especialista em transformar dados brutos em insights valiosos em segundos? 📊 Conheça o **Analyst**! Ambos estão disponíveis no Agent Store, prontos para turbinar seu dia a dia.\n> \n> No **Agent Store**, você encontra uma variedade incrível de agentes da Microsoft e de parceiros como Jira, Monday.com e Miro. 🤩 Explore, personalize e adapte os agentes ao seu fluxo de trabalho!\n> \n> Precisa encontrar algo no seu ambiente de trabalho? O **Copilot Search** te ajuda a encontrar arquivos, e-mails e conversas usando linguagem natural. 🗣️ E com o **Copilot Studio**, você pode criar agentes personalizados para as necessidades específicas da sua empresa. 🏢\n> \n> E a segurança? Fique tranquilo! O Copilot Control System oferece ferramentas robustas para gerenciar e governar os agentes, garantindo a proteção dos seus dados com as políticas do Microsoft Purview. 🔒\n> \n> Pronto para experimentar o futuro do trabalho? ✨ Explore as novas funcionalidades, personalize seus agentes e compartilhe suas experiências!\n> \n> \\#Microsoft365 \\#Copilot \\#IA \\#Produtividade \\#AgentesDeIA\n> \n"
          },
          "metadata": {}
        },
        {
          "output_type": "stream",
          "name": "stdout",
          "text": [
            "---------------------------------------\n",
            "\n",
            "--- Resultado do agente revisor ---\n",
            "\n"
          ]
        },
        {
          "output_type": "display_data",
          "data": {
            "text/plain": [
              "<IPython.core.display.Markdown object>"
            ],
            "text/markdown": "> O rascunho está bom, mas podemos deixá-lo ainda mais atraente para o público do Instagram. Aqui estão algumas sugestões:\n> \n> *   **Título:** O título está bom, mas pode ser mais direto e chamativo. Que tal algo como: \"Copilot Wave 2: A IA que vai EXPLODIR sua Produtividade!\" ou \"Chegou a Revolução da IA no Trabalho: Microsoft Copilot Wave 2!\"\n> \n> *   **Emojis:** Use mais emojis ao longo do texto para quebrar a monotonia e deixar o post mais visualmente interessante. Emojis relevantes podem ajudar a destacar os benefícios e funcionalidades.\n> \n> *   **Linguagem:** Ajuste a linguagem para ser ainda mais informal e direta. Use gírias e expressões que o público jovem usa para criar uma conexão maior. Por exemplo, em vez de \"precisão cirúrgica\", você poderia dizer \"com uma precisão absurda\".\n> \n> *   **Call to Action:** Incentive mais a interação. No final, adicione uma pergunta como: \"Qual agente de IA você está mais ansioso para testar?\" ou \"Já usou o Copilot? Conta pra gente sua experiência!\".\n> \n> *   **Hashtags:** As hashtags estão boas, mas adicione algumas mais específicas e populares para aumentar o alcance, como #InteligenciaArtificial, #Tech, #Inovacao, #FuturoDoTrabalho.\n> \n> **Sugestão de Rascunho Revisado:**\n> \n> **Título:** Copilot Wave 2: A IA que vai EXPLODIR sua Produtividade! 🚀🤯\n> \n> Se prepare pra dar um UPGRADE GIGANTE na sua vida profissional! A Microsoft lançou a Wave 2 do Copilot, e a parada é SÉRIA: IA trabalhando junto com você pra turbinar sua produtividade e te ajudar a tomar decisões INCRÍVEIS. 🤩\n> \n> Já pensou em ter um agente que faz pesquisas COMPLEXAS rapidinho? 🔎 O **Researcher** faz isso! E um especialista em transformar aqueles dados chatos em insights que VALEM OURO? 📊 É o **Analyst**, e os dois estão te esperando no Agent Store pra dar um gás no seu dia a dia. 🔥\n> \n> No **Agent Store**, tem um MONTÃO de agentes da Microsoft e de parceiros como Jira, Monday.com e Miro. 🤩 É só escolher, personalizar e mandar ver!\n> \n> Precisa achar AQUELA informação no meio do caos? O **Copilot Search** acha arquivos, e-mails e conversas usando a sua LÍNGUA! 🗣️ E com o **Copilot Studio**, você CRIA seus próprios agentes pra resolver os BOs da sua empresa. 🏢\n> \n> E a segurança? Relaxa! O Copilot Control System protege seus dados com as políticas do Microsoft Purview. 🔒\n> \n> Bora pro FUTURO? ✨ Teste as novidades, personalize seus agentes e conta pra gente: qual agente você tá mais ansioso pra usar? 👇\n> \n> \\#Microsoft365 \\#Copilot \\#IA \\#Produtividade \\#AgentesDeIA #InteligenciaArtificial #Tech #Inovacao #FuturoDoTrabalho\n> \n> Antes de publicar, use o Google para confirmar se as informações sobre o Copilot Wave 2 e os agentes (Researcher, Analyst, Copilot Search, Copilot Studio) estão corretas e atualizadas.\n> \n> Com base nas informações mais recentes, o rascunho revisado está ainda melhor e pronto para ser publicado após as seguintes alterações:\n> \n> *   Confirmei que a Microsoft lançou a Wave 2 do Copilot com os agentes Researcher e Analyst.\n> *   O Copilot Search realmente existe e busca simplificar a pesquisa, fornecendo respostas resumidas e com fontes citadas.\n> *   O Copilot Studio permite criar agentes personalizados, integrando dados da empresa e automatizando tarefas.\n> *   O Microsoft Purview garante a segurança e governança dos dados.\n> \n> **Rascunho Final:**\n> \n> **Título:** Copilot Wave 2: A IA que vai EXPLODIR sua Produtividade! 🚀🤯\n> \n> Se prepare pra dar um UPGRADE GIGANTE na sua vida profissional! A Microsoft lançou a Wave 2 do Copilot, e a parada é SÉRIA: IA trabalhando junto com você pra turbinar sua produtividade e te ajudar a tomar decisões INCRÍVEIS. 🤩\n> \n> Já pensou em ter um agente que faz pesquisas COMPLEXAS rapidinho? 🔎 O **Researcher** faz isso! E um especialista em transformar aqueles dados chatos em insights que VALEM OURO? 📊 É o **Analyst**, e os dois estão te esperando no Agent Store pra dar um gás no seu dia a dia. 🔥\n> \n> No **Agent Store**, tem um MONTÃO de agentes da Microsoft e de parceiros como Jira, Monday.com e Miro. 🤩 É só escolher, personalizar e mandar ver!\n> \n> Precisa achar AQUELA informação no meio do caos? O **Copilot Search** acha arquivos, e-mails e conversas usando a sua LÍNGUA! 🗣️ E com o **Copilot Studio**, você CRIA seus próprios agentes pra resolver os BOs da sua empresa. 🏢\n> \n> E a segurança? Relaxa! O Copilot Control System protege seus dados com as políticas do Microsoft Purview. 🔒\n> \n> Bora pro FUTURO? ✨ Teste as novidades, personalize seus agentes e conta pra gente: qual agente você tá mais ansioso pra usar? 👇\n> \n> \\#Microsoft365 \\#Copilot \\#IA \\#Produtividade \\#AgentesDeIA #InteligenciaArtificial #Tech #Inovacao #FuturoDoTrabalho\n> \n"
          },
          "metadata": {}
        },
        {
          "output_type": "stream",
          "name": "stdout",
          "text": [
            "---------------------------------------\n"
          ]
        }
      ]
    }
  ]
}